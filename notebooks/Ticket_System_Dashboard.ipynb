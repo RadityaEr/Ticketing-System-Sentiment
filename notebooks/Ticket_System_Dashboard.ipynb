{
 "cells": [
  {
   "cell_type": "markdown",
   "metadata": {
    "id": "3hUmis7astY-"
   },
   "source": [
    "# Assignment Customer Satisfaction and Sentiment Analysis\n"
   ]
  },
  {
   "cell_type": "markdown",
   "metadata": {
    "id": "ahQyKmVBw43f"
   },
   "source": [
    "## Objective\n",
    "\n",
    "You are a data analyst of a consulting company that provides customer insight regarding multiple ticketing system, such as JIRA and Zoho Desk. Your team gather surveys to customers regarding their ticketing system's performance. Your role in the team is to gather reports regarding customer satisfaction and sentiment analysis into a single dashboard and present your insight.\n",
    "\n",
    "Analyze the following metrics and other insight you can find in the dataset:\n",
    "\n",
    "- Survey response rate\n",
    "- Customer Satisfaction score (CSAT)\n",
    "- Customer Effort Score (CES)\n",
    "- Net Promoter Score (NPS)\n",
    "- Sentiment Analysis\n"
   ]
  },
  {
   "cell_type": "markdown",
   "metadata": {
    "id": "Iat2oAhAv3bk"
   },
   "source": [
    "\n",
    "## Data Preparation"
   ]
  },
  {
   "cell_type": "code",
   "execution_count": 11,
   "metadata": {
    "id": "LOWYnwcmso5l"
   },
   "outputs": [],
   "source": [
    "import numpy as np\n",
    "import pandas as pd\n",
    "import os\n",
    "\n",
    "pd.options.display.max_columns = 999\n",
    "pd.options.display.float_format = \"{:.2f}\".format"
   ]
  },
  {
   "cell_type": "markdown",
   "metadata": {
    "id": "gFIM2K4Zsxq7"
   },
   "source": [
    "### Access to Data\n",
    "\n",
    "Write where you put the data in google drive."
   ]
  },
  {
   "cell_type": "markdown",
   "metadata": {
    "id": "hzTVWDEZtAlk"
   },
   "source": [
    "### Read Data\n",
    "\n",
    "Read the file **assignment_ticket_system_review.csv**"
   ]
  },
  {
   "cell_type": "code",
   "execution_count": 12,
   "metadata": {
    "id": "_vthpIWptEOj"
   },
   "outputs": [
    {
     "data": {
      "text/html": [
       "<div>\n",
       "<style scoped>\n",
       "    .dataframe tbody tr th:only-of-type {\n",
       "        vertical-align: middle;\n",
       "    }\n",
       "\n",
       "    .dataframe tbody tr th {\n",
       "        vertical-align: top;\n",
       "    }\n",
       "\n",
       "    .dataframe thead th {\n",
       "        text-align: right;\n",
       "    }\n",
       "</style>\n",
       "<table border=\"1\" class=\"dataframe\">\n",
       "  <thead>\n",
       "    <tr style=\"text-align: right;\">\n",
       "      <th></th>\n",
       "      <th>id_survey</th>\n",
       "      <th>date_of_survey</th>\n",
       "      <th>ticket_system</th>\n",
       "      <th>overall_rating</th>\n",
       "      <th>customer_service</th>\n",
       "      <th>features</th>\n",
       "      <th>value_for_money</th>\n",
       "      <th>ease_of_use</th>\n",
       "      <th>likelihood_to_recommend</th>\n",
       "      <th>overall_text</th>\n",
       "    </tr>\n",
       "  </thead>\n",
       "  <tbody>\n",
       "    <tr>\n",
       "      <th>0</th>\n",
       "      <td>T_02161</td>\n",
       "      <td>2024-11-20</td>\n",
       "      <td>Zendesk</td>\n",
       "      <td>NaN</td>\n",
       "      <td>NaN</td>\n",
       "      <td>NaN</td>\n",
       "      <td>NaN</td>\n",
       "      <td>NaN</td>\n",
       "      <td>NaN</td>\n",
       "      <td>NaN</td>\n",
       "    </tr>\n",
       "    <tr>\n",
       "      <th>1</th>\n",
       "      <td>T_00229</td>\n",
       "      <td>2024-10-06</td>\n",
       "      <td>Zendesk</td>\n",
       "      <td>3.00</td>\n",
       "      <td>4.00</td>\n",
       "      <td>3.00</td>\n",
       "      <td>3.00</td>\n",
       "      <td>2.00</td>\n",
       "      <td>6.00</td>\n",
       "      <td>Customer tickets managements</td>\n",
       "    </tr>\n",
       "    <tr>\n",
       "      <th>2</th>\n",
       "      <td>T_04527</td>\n",
       "      <td>2024-12-26</td>\n",
       "      <td>Zoho Desk</td>\n",
       "      <td>5.00</td>\n",
       "      <td>5.00</td>\n",
       "      <td>5.00</td>\n",
       "      <td>5.00</td>\n",
       "      <td>5.00</td>\n",
       "      <td>8.00</td>\n",
       "      <td>After 6 months of using the Zoho desk, we shif...</td>\n",
       "    </tr>\n",
       "    <tr>\n",
       "      <th>3</th>\n",
       "      <td>T_03190</td>\n",
       "      <td>2024-12-08</td>\n",
       "      <td>Zoho Desk</td>\n",
       "      <td>NaN</td>\n",
       "      <td>NaN</td>\n",
       "      <td>NaN</td>\n",
       "      <td>NaN</td>\n",
       "      <td>NaN</td>\n",
       "      <td>NaN</td>\n",
       "      <td>NaN</td>\n",
       "    </tr>\n",
       "    <tr>\n",
       "      <th>4</th>\n",
       "      <td>T_00644</td>\n",
       "      <td>2024-10-17</td>\n",
       "      <td>Zendesk</td>\n",
       "      <td>5.00</td>\n",
       "      <td>3.00</td>\n",
       "      <td>4.00</td>\n",
       "      <td>5.00</td>\n",
       "      <td>5.00</td>\n",
       "      <td>6.00</td>\n",
       "      <td>Pros:Zendesk has always been one of the go-to ...</td>\n",
       "    </tr>\n",
       "  </tbody>\n",
       "</table>\n",
       "</div>"
      ],
      "text/plain": [
       "  id_survey date_of_survey ticket_system  overall_rating  customer_service  \\\n",
       "0   T_02161     2024-11-20       Zendesk             NaN               NaN   \n",
       "1   T_00229     2024-10-06       Zendesk            3.00              4.00   \n",
       "2   T_04527     2024-12-26     Zoho Desk            5.00              5.00   \n",
       "3   T_03190     2024-12-08     Zoho Desk             NaN               NaN   \n",
       "4   T_00644     2024-10-17       Zendesk            5.00              3.00   \n",
       "\n",
       "   features  value_for_money  ease_of_use  likelihood_to_recommend  \\\n",
       "0       NaN              NaN          NaN                      NaN   \n",
       "1      3.00             3.00         2.00                     6.00   \n",
       "2      5.00             5.00         5.00                     8.00   \n",
       "3       NaN              NaN          NaN                      NaN   \n",
       "4      4.00             5.00         5.00                     6.00   \n",
       "\n",
       "                                        overall_text  \n",
       "0                                                NaN  \n",
       "1                       Customer tickets managements  \n",
       "2  After 6 months of using the Zoho desk, we shif...  \n",
       "3                                                NaN  \n",
       "4  Pros:Zendesk has always been one of the go-to ...  "
      ]
     },
     "execution_count": 12,
     "metadata": {},
     "output_type": "execute_result"
    }
   ],
   "source": [
    "# Read Data\n",
    "dataset = pd.read_csv(\"assignment_ticket_system_review.csv\")\n",
    "dataset.head()"
   ]
  },
  {
   "cell_type": "markdown",
   "metadata": {
    "id": "JwcScuOJtpx9"
   },
   "source": [
    "The following is the dictionary for the data, survey is only valid if all of the survey questions and text review is not blank (null):\n",
    "\n",
    "**General Information**\n",
    "- id_survey: identifier for each survey\n",
    "- date_of_survey: date of survey taken\n",
    "- ticket_system: The name of the ticket system being reviewed (e.g. Zoho Desk)\n",
    "\n",
    "**Survey Questions**\n",
    "- overall_rating: The overall satisfaction rating given by the reviewer, ranging from 1 to 5\n",
    "- customer_service: The satisfaction rating for the customer service provided by the ticket system, ranging from 1 to 5.\n",
    "- features: The satisfaction rating for the features of the ticket system, ranging from 1 to 5\n",
    "- value_for_money: The satisfaction rating for the value for money provided by the ticket system, ranging from 1 to 5\n",
    "- ease_of_use: The rating for how easy the ticket system is to use, ranging from 1 to 5\n",
    "- likelihood_to_recommend: The likelihood that the reviewer would recommend the ticket system to others, ranging from 1 to 10\n",
    "- overall_text: The full text of the overall review, providing detailed feedback on the ticket system.\n"
   ]
  },
  {
   "cell_type": "code",
   "execution_count": 13,
   "metadata": {
    "id": "fBIF-6T3tVnc"
   },
   "outputs": [
    {
     "name": "stdout",
     "output_type": "stream",
     "text": [
      "<class 'pandas.core.frame.DataFrame'>\n",
      "RangeIndex: 1462 entries, 0 to 1461\n",
      "Data columns (total 10 columns):\n",
      " #   Column                   Non-Null Count  Dtype  \n",
      "---  ------                   --------------  -----  \n",
      " 0   id_survey                1462 non-null   object \n",
      " 1   date_of_survey           1462 non-null   object \n",
      " 2   ticket_system            1462 non-null   object \n",
      " 3   overall_rating           787 non-null    float64\n",
      " 4   customer_service         787 non-null    float64\n",
      " 5   features                 787 non-null    float64\n",
      " 6   value_for_money          787 non-null    float64\n",
      " 7   ease_of_use              787 non-null    float64\n",
      " 8   likelihood_to_recommend  787 non-null    float64\n",
      " 9   overall_text             787 non-null    object \n",
      "dtypes: float64(6), object(4)\n",
      "memory usage: 114.3+ KB\n"
     ]
    }
   ],
   "source": [
    "# Check the type of data\n",
    "dataset.info()\n"
   ]
  },
  {
   "cell_type": "markdown",
   "metadata": {},
   "source": [
    "Interpretasi\n",
    "- Dapat dilihat untuk nilai - nilai float, banyak nilai Null, dapat dianggap yang Null adalah user yang tidak mengisi\n",
    "- Data Type terlihat cocok, selain mengubah date_of_survey ke format Date & Time"
   ]
  },
  {
   "cell_type": "markdown",
   "metadata": {
    "id": "jMx3NFjnurX3"
   },
   "source": [
    "### Data Cleansing\n",
    "\n",
    "Convert the date column into proper date_time format."
   ]
  },
  {
   "cell_type": "code",
   "execution_count": 14,
   "metadata": {
    "id": "Urs03Ufyul2i"
   },
   "outputs": [
    {
     "data": {
      "text/html": [
       "<div>\n",
       "<style scoped>\n",
       "    .dataframe tbody tr th:only-of-type {\n",
       "        vertical-align: middle;\n",
       "    }\n",
       "\n",
       "    .dataframe tbody tr th {\n",
       "        vertical-align: top;\n",
       "    }\n",
       "\n",
       "    .dataframe thead th {\n",
       "        text-align: right;\n",
       "    }\n",
       "</style>\n",
       "<table border=\"1\" class=\"dataframe\">\n",
       "  <thead>\n",
       "    <tr style=\"text-align: right;\">\n",
       "      <th></th>\n",
       "      <th>id_survey</th>\n",
       "      <th>date_of_survey</th>\n",
       "      <th>ticket_system</th>\n",
       "      <th>overall_rating</th>\n",
       "      <th>customer_service</th>\n",
       "      <th>features</th>\n",
       "      <th>value_for_money</th>\n",
       "      <th>ease_of_use</th>\n",
       "      <th>likelihood_to_recommend</th>\n",
       "      <th>overall_text</th>\n",
       "    </tr>\n",
       "  </thead>\n",
       "  <tbody>\n",
       "    <tr>\n",
       "      <th>0</th>\n",
       "      <td>T_02161</td>\n",
       "      <td>2024-11-20</td>\n",
       "      <td>Zendesk</td>\n",
       "      <td>NaN</td>\n",
       "      <td>NaN</td>\n",
       "      <td>NaN</td>\n",
       "      <td>NaN</td>\n",
       "      <td>NaN</td>\n",
       "      <td>NaN</td>\n",
       "      <td>NaN</td>\n",
       "    </tr>\n",
       "    <tr>\n",
       "      <th>1</th>\n",
       "      <td>T_00229</td>\n",
       "      <td>2024-10-06</td>\n",
       "      <td>Zendesk</td>\n",
       "      <td>3.00</td>\n",
       "      <td>4.00</td>\n",
       "      <td>3.00</td>\n",
       "      <td>3.00</td>\n",
       "      <td>2.00</td>\n",
       "      <td>6.00</td>\n",
       "      <td>Customer tickets managements</td>\n",
       "    </tr>\n",
       "    <tr>\n",
       "      <th>2</th>\n",
       "      <td>T_04527</td>\n",
       "      <td>2024-12-26</td>\n",
       "      <td>Zoho Desk</td>\n",
       "      <td>5.00</td>\n",
       "      <td>5.00</td>\n",
       "      <td>5.00</td>\n",
       "      <td>5.00</td>\n",
       "      <td>5.00</td>\n",
       "      <td>8.00</td>\n",
       "      <td>After 6 months of using the Zoho desk, we shif...</td>\n",
       "    </tr>\n",
       "    <tr>\n",
       "      <th>3</th>\n",
       "      <td>T_03190</td>\n",
       "      <td>2024-12-08</td>\n",
       "      <td>Zoho Desk</td>\n",
       "      <td>NaN</td>\n",
       "      <td>NaN</td>\n",
       "      <td>NaN</td>\n",
       "      <td>NaN</td>\n",
       "      <td>NaN</td>\n",
       "      <td>NaN</td>\n",
       "      <td>NaN</td>\n",
       "    </tr>\n",
       "    <tr>\n",
       "      <th>4</th>\n",
       "      <td>T_00644</td>\n",
       "      <td>2024-10-17</td>\n",
       "      <td>Zendesk</td>\n",
       "      <td>5.00</td>\n",
       "      <td>3.00</td>\n",
       "      <td>4.00</td>\n",
       "      <td>5.00</td>\n",
       "      <td>5.00</td>\n",
       "      <td>6.00</td>\n",
       "      <td>Pros:Zendesk has always been one of the go-to ...</td>\n",
       "    </tr>\n",
       "  </tbody>\n",
       "</table>\n",
       "</div>"
      ],
      "text/plain": [
       "  id_survey date_of_survey ticket_system  overall_rating  customer_service  \\\n",
       "0   T_02161     2024-11-20       Zendesk             NaN               NaN   \n",
       "1   T_00229     2024-10-06       Zendesk            3.00              4.00   \n",
       "2   T_04527     2024-12-26     Zoho Desk            5.00              5.00   \n",
       "3   T_03190     2024-12-08     Zoho Desk             NaN               NaN   \n",
       "4   T_00644     2024-10-17       Zendesk            5.00              3.00   \n",
       "\n",
       "   features  value_for_money  ease_of_use  likelihood_to_recommend  \\\n",
       "0       NaN              NaN          NaN                      NaN   \n",
       "1      3.00             3.00         2.00                     6.00   \n",
       "2      5.00             5.00         5.00                     8.00   \n",
       "3       NaN              NaN          NaN                      NaN   \n",
       "4      4.00             5.00         5.00                     6.00   \n",
       "\n",
       "                                        overall_text  \n",
       "0                                                NaN  \n",
       "1                       Customer tickets managements  \n",
       "2  After 6 months of using the Zoho desk, we shif...  \n",
       "3                                                NaN  \n",
       "4  Pros:Zendesk has always been one of the go-to ...  "
      ]
     },
     "execution_count": 14,
     "metadata": {},
     "output_type": "execute_result"
    }
   ],
   "source": [
    "# Convert data type\n",
    "dataset['date_of_survey'] = pd.to_datetime(dataset['date_of_survey'])\n",
    "dataset.head()"
   ]
  },
  {
   "cell_type": "markdown",
   "metadata": {
    "id": "wJMOr-C1vm8h"
   },
   "source": [
    "## Survey Analysis"
   ]
  },
  {
   "cell_type": "markdown",
   "metadata": {
    "id": "fPeVsjWJ9JdG"
   },
   "source": [
    "### Response Rate\n",
    "\n",
    "Start by analyzing how many customers has filled the survey, indicated by whether the overall_rating is not blank."
   ]
  },
  {
   "cell_type": "code",
   "execution_count": 15,
   "metadata": {
    "id": "MwfE7Isuu8VO"
   },
   "outputs": [
    {
     "data": {
      "text/html": [
       "<div>\n",
       "<style scoped>\n",
       "    .dataframe tbody tr th:only-of-type {\n",
       "        vertical-align: middle;\n",
       "    }\n",
       "\n",
       "    .dataframe tbody tr th {\n",
       "        vertical-align: top;\n",
       "    }\n",
       "\n",
       "    .dataframe thead th {\n",
       "        text-align: right;\n",
       "    }\n",
       "</style>\n",
       "<table border=\"1\" class=\"dataframe\">\n",
       "  <thead>\n",
       "    <tr style=\"text-align: right;\">\n",
       "      <th></th>\n",
       "      <th>fill_survey</th>\n",
       "      <th>proportion</th>\n",
       "    </tr>\n",
       "  </thead>\n",
       "  <tbody>\n",
       "    <tr>\n",
       "      <th>0</th>\n",
       "      <td>Responded</td>\n",
       "      <td>0.54</td>\n",
       "    </tr>\n",
       "    <tr>\n",
       "      <th>1</th>\n",
       "      <td>Not Responded</td>\n",
       "      <td>0.46</td>\n",
       "    </tr>\n",
       "  </tbody>\n",
       "</table>\n",
       "</div>"
      ],
      "text/plain": [
       "     fill_survey  proportion\n",
       "0      Responded        0.54\n",
       "1  Not Responded        0.46"
      ]
     },
     "execution_count": 15,
     "metadata": {},
     "output_type": "execute_result"
    }
   ],
   "source": [
    "# How many customer responded to the survey?\n",
    "dataset['fill_survey'] = np.where(dataset['overall_rating'].isnull(), 'Not Responded', 'Responded')\n",
    "\n",
    "dataset.value_counts('fill_survey', normalize = True).reset_index()"
   ]
  },
  {
   "cell_type": "markdown",
   "metadata": {
    "id": "t5Kh4lR2Su4n"
   },
   "source": [
    "Create a new dataframe that consists only of those who have responded the survey to simplify calculating the CSAT, CES, and NPS Score."
   ]
  },
  {
   "cell_type": "code",
   "execution_count": 16,
   "metadata": {
    "id": "2f4T3m0cS5G5"
   },
   "outputs": [
    {
     "data": {
      "text/html": [
       "<div>\n",
       "<style scoped>\n",
       "    .dataframe tbody tr th:only-of-type {\n",
       "        vertical-align: middle;\n",
       "    }\n",
       "\n",
       "    .dataframe tbody tr th {\n",
       "        vertical-align: top;\n",
       "    }\n",
       "\n",
       "    .dataframe thead th {\n",
       "        text-align: right;\n",
       "    }\n",
       "</style>\n",
       "<table border=\"1\" class=\"dataframe\">\n",
       "  <thead>\n",
       "    <tr style=\"text-align: right;\">\n",
       "      <th></th>\n",
       "      <th>id_survey</th>\n",
       "      <th>date_of_survey</th>\n",
       "      <th>ticket_system</th>\n",
       "      <th>overall_rating</th>\n",
       "      <th>customer_service</th>\n",
       "      <th>features</th>\n",
       "      <th>value_for_money</th>\n",
       "      <th>ease_of_use</th>\n",
       "      <th>likelihood_to_recommend</th>\n",
       "      <th>overall_text</th>\n",
       "      <th>fill_survey</th>\n",
       "    </tr>\n",
       "  </thead>\n",
       "  <tbody>\n",
       "    <tr>\n",
       "      <th>1</th>\n",
       "      <td>T_00229</td>\n",
       "      <td>2024-10-06</td>\n",
       "      <td>Zendesk</td>\n",
       "      <td>3.00</td>\n",
       "      <td>4.00</td>\n",
       "      <td>3.00</td>\n",
       "      <td>3.00</td>\n",
       "      <td>2.00</td>\n",
       "      <td>6.00</td>\n",
       "      <td>Customer tickets managements</td>\n",
       "      <td>Responded</td>\n",
       "    </tr>\n",
       "    <tr>\n",
       "      <th>2</th>\n",
       "      <td>T_04527</td>\n",
       "      <td>2024-12-26</td>\n",
       "      <td>Zoho Desk</td>\n",
       "      <td>5.00</td>\n",
       "      <td>5.00</td>\n",
       "      <td>5.00</td>\n",
       "      <td>5.00</td>\n",
       "      <td>5.00</td>\n",
       "      <td>8.00</td>\n",
       "      <td>After 6 months of using the Zoho desk, we shif...</td>\n",
       "      <td>Responded</td>\n",
       "    </tr>\n",
       "    <tr>\n",
       "      <th>4</th>\n",
       "      <td>T_00644</td>\n",
       "      <td>2024-10-17</td>\n",
       "      <td>Zendesk</td>\n",
       "      <td>5.00</td>\n",
       "      <td>3.00</td>\n",
       "      <td>4.00</td>\n",
       "      <td>5.00</td>\n",
       "      <td>5.00</td>\n",
       "      <td>6.00</td>\n",
       "      <td>Pros:Zendesk has always been one of the go-to ...</td>\n",
       "      <td>Responded</td>\n",
       "    </tr>\n",
       "    <tr>\n",
       "      <th>6</th>\n",
       "      <td>T_04682</td>\n",
       "      <td>2024-12-28</td>\n",
       "      <td>Zoho Desk</td>\n",
       "      <td>5.00</td>\n",
       "      <td>4.00</td>\n",
       "      <td>5.00</td>\n",
       "      <td>5.00</td>\n",
       "      <td>5.00</td>\n",
       "      <td>8.00</td>\n",
       "      <td>It has been very useful so far to integrate mu...</td>\n",
       "      <td>Responded</td>\n",
       "    </tr>\n",
       "    <tr>\n",
       "      <th>8</th>\n",
       "      <td>T_01238</td>\n",
       "      <td>2024-11-02</td>\n",
       "      <td>Freshdesk</td>\n",
       "      <td>4.00</td>\n",
       "      <td>4.00</td>\n",
       "      <td>4.00</td>\n",
       "      <td>5.00</td>\n",
       "      <td>4.00</td>\n",
       "      <td>8.00</td>\n",
       "      <td>Pros:It's easy to use and very intuitive.We ha...</td>\n",
       "      <td>Responded</td>\n",
       "    </tr>\n",
       "  </tbody>\n",
       "</table>\n",
       "</div>"
      ],
      "text/plain": [
       "  id_survey date_of_survey ticket_system  overall_rating  customer_service  \\\n",
       "1   T_00229     2024-10-06       Zendesk            3.00              4.00   \n",
       "2   T_04527     2024-12-26     Zoho Desk            5.00              5.00   \n",
       "4   T_00644     2024-10-17       Zendesk            5.00              3.00   \n",
       "6   T_04682     2024-12-28     Zoho Desk            5.00              4.00   \n",
       "8   T_01238     2024-11-02     Freshdesk            4.00              4.00   \n",
       "\n",
       "   features  value_for_money  ease_of_use  likelihood_to_recommend  \\\n",
       "1      3.00             3.00         2.00                     6.00   \n",
       "2      5.00             5.00         5.00                     8.00   \n",
       "4      4.00             5.00         5.00                     6.00   \n",
       "6      5.00             5.00         5.00                     8.00   \n",
       "8      4.00             5.00         4.00                     8.00   \n",
       "\n",
       "                                        overall_text fill_survey  \n",
       "1                       Customer tickets managements   Responded  \n",
       "2  After 6 months of using the Zoho desk, we shif...   Responded  \n",
       "4  Pros:Zendesk has always been one of the go-to ...   Responded  \n",
       "6  It has been very useful so far to integrate mu...   Responded  \n",
       "8  Pros:It's easy to use and very intuitive.We ha...   Responded  "
      ]
     },
     "execution_count": 16,
     "metadata": {},
     "output_type": "execute_result"
    }
   ],
   "source": [
    "# Responded Customer\n",
    "responded_customer = dataset[ dataset['fill_survey'] == 'Responded'].copy()\n",
    "responded_customer.head()"
   ]
  },
  {
   "cell_type": "markdown",
   "metadata": {
    "id": "ElP-9j-kIRbx"
   },
   "source": [
    "### CSAT Score\n",
    "\n",
    "Measure the customer's overall satisfaction score (CSAT) with the following formula:\n",
    "\n",
    "$$\n",
    "CSAT = \\frac{\\Sigma\\ total\\ satisfaction\\ score}{number\\ of\\ responded\\ customer \\times \\max\\ rating}\n",
    "$$\n",
    "\n",
    "The max rating is inserted to convert the CSAT score into percentage.\n",
    "\n",
    "CSAT score can be classified into categories based on the result. There is no absolute threshold for each categories but the following is the common threshold:\n",
    "\n",
    "- \\>= 90%: Excellent\n",
    "- 75%-90%: Good\n",
    "- 60-75%: Fair\n",
    "- \\<60%: Poor"
   ]
  },
  {
   "cell_type": "code",
   "execution_count": 17,
   "metadata": {
    "id": "8SXtpsGUIw74"
   },
   "outputs": [
    {
     "name": "stdout",
     "output_type": "stream",
     "text": [
      "Overall CSAT Score: 45.6%\n"
     ]
    }
   ],
   "source": [
    "# CSAT Score\n",
    "max_rating = 10\n",
    "n_data = (responded_customer.shape[0] * max_rating)\n",
    "\n",
    "csat_score = responded_customer['overall_rating'].sum() / n_data\n",
    "\n",
    "print(f'Overall CSAT Score: { (csat_score * 100):.1f}%')"
   ]
  },
  {
   "cell_type": "markdown",
   "metadata": {
    "id": "JIILkWU2TBEy"
   },
   "source": [
    "Measure the satisfaction score for the following attributes:\n",
    "\n",
    "- customer service\n",
    "- features\n",
    "- value for money"
   ]
  },
  {
   "cell_type": "code",
   "execution_count": 18,
   "metadata": {
    "id": "VDseU9Y2Uj5B"
   },
   "outputs": [
    {
     "name": "stdout",
     "output_type": "stream",
     "text": [
      "Overall CSAT Score: 45.6%\n",
      "Customer Service Score: 33.7%\n",
      "Features Score: 44.2%\n",
      "Value for Money Score: 43.8%\n"
     ]
    }
   ],
   "source": [
    "# Satisfaction Score for Attributes\n",
    "score_customer_service = responded_customer['customer_service'].sum() / n_data\n",
    "score_feature = responded_customer['features'].sum()/ n_data\n",
    "score_value_for_money = responded_customer['value_for_money'].sum()/ n_data\n",
    "\n",
    "\n",
    "print(f'Overall CSAT Score: { (csat_score * 100):.1f}%')\n",
    "print(f'Customer Service Score: { (score_customer_service * 100):.1f}%')\n",
    "print(f'Features Score: { (score_feature * 100):.1f}%')\n",
    "print(f'Value for Money Score: { (score_value_for_money * 100):.1f}%')\n"
   ]
  },
  {
   "cell_type": "markdown",
   "metadata": {
    "id": "SqZMFs24M03k"
   },
   "source": [
    "### CES Score\n",
    "\n",
    "Measure CES with the following formula\n",
    "\n",
    "\n",
    "$$\n",
    "CES = \\frac{\\Sigma\\ total\\ effort\\ score}{number\\ of\\ responded\\ customer \\times \\max\\ rating}\n",
    "$$"
   ]
  },
  {
   "cell_type": "code",
   "execution_count": 19,
   "metadata": {
    "id": "6gLvVDVENE17"
   },
   "outputs": [
    {
     "name": "stdout",
     "output_type": "stream",
     "text": [
      "Ease of Use Score: 44.7%\n"
     ]
    }
   ],
   "source": [
    "# CES Score\n",
    "max_rating = 10\n",
    "n_data = (responded_customer.shape[0] * max_rating)\n",
    "score_ease_of_use = responded_customer['ease_of_use'].sum()/ n_data\n",
    "print(f'Ease of Use Score: { (score_ease_of_use * 100):.1f}%')"
   ]
  },
  {
   "cell_type": "markdown",
   "metadata": {
    "id": "TfeJ_6ObmdS3"
   },
   "source": [
    "### NPS Score\n",
    "\n",
    "To calculate the NPS score, first we must convert the **would_you_recommend** column into proper NPS Category based on the rating value:\n",
    "\n",
    "* Promoter: Rating 9-10\n",
    "* Passive: Rating 7-8\n",
    "* Detractor: Rating < 7"
   ]
  },
  {
   "cell_type": "code",
   "execution_count": 20,
   "metadata": {
    "id": "m_7VwpRiwrH6"
   },
   "outputs": [
    {
     "data": {
      "text/plain": [
       "nps_category\n",
       "Passive     0.48\n",
       "Promoter    0.32\n",
       "Detractor   0.20\n",
       "Name: proportion, dtype: float64"
      ]
     },
     "execution_count": 20,
     "metadata": {},
     "output_type": "execute_result"
    }
   ],
   "source": [
    "# Category NPS\n",
    "nps_value = ['Promoter', 'Passive', 'Detractor']\n",
    "nps_condition = [responded_customer['likelihood_to_recommend'] >= 9,\n",
    "                 responded_customer['likelihood_to_recommend'] >= 7,\n",
    "                 responded_customer['likelihood_to_recommend'] < 7\n",
    "                 ]\n",
    "\n",
    "responded_customer['nps_category'] = np.select(nps_condition, nps_value)\n",
    "\n",
    "responded_customer.value_counts('nps_category', normalize = True)\n"
   ]
  },
  {
   "cell_type": "code",
   "execution_count": null,
   "metadata": {},
   "outputs": [
    {
     "data": {
      "text/plain": [
       "id_survey  date_of_survey  ticket_system            overall_rating  customer_service  features  value_for_money  ease_of_use  likelihood_to_recommend  overall_text                                                                                                                                                                                                                                                                                                        fill_survey  nps_category\n",
       "T_00001    2024-10-01      Zoho Desk                5.00            4.00              5.00      5.00             5.00         10.00                    Saved money, increased productivity and connected together, different systems we use.                                                                                                                                                                                                                               Responded    Promoter        1\n",
       "T_03286    2024-12-09      Freshdesk                4.00            5.00              4.00      5.00             5.00         9.00                     Freshdesk support has always been quick and helpful if we've ever experienced issues, and our account manager is always responsive and super helpful.We are part of the Affiliate programme and find the payments and admin of that side can be delayed and slow in both showing in the system and being received.  Responded    Promoter        1\n",
       "T_03288    2024-12-09      Freshdesk                5.00            3.00              4.00      5.00             4.00         8.00                     Pros:The system itself is great and does everything I need. I have used across two companies and it suits our needs and helps us greatly. It's user friendly and quick to set up.                                                                                                                                   Responded    Passive         1\n",
       "T_03320    2024-12-09      Jira Service Management  4.00            2.00              5.00      3.00             4.00         8.00                     Reduce time to create and customize customer portals.Track time spent on requestsTrack external vs internal requests                                                                                                                                                                                                Responded    Passive         1\n",
       "T_03327    2024-12-10      Zoho Desk                5.00            4.00              5.00      5.00             5.00         9.00                     Overall we are enjoying with the Zoho desk features.We have configured it with our internal IT department for resolving ticketing of internal employees.                                                                                                                                                            Responded    Promoter        1\n",
       "                                                                                                                                                                                                                                                                                                                                                                                                                                                                                                       ..\n",
       "T_01663    2024-11-11      Zoho Desk                5.00            1.00              4.00      5.00             4.00         7.00                     Pros:there are plenty ways to describe zoho desk pros: Easy way to customize fields, add agents,setting departments.The REST API is very stable and easy to develop. software documantions is realy good.users were able to understand fast - learning curve is fast                                                Responded    Passive         1\n",
       "T_01666    2024-11-11      Zoho Desk                4.00            0.00              4.00      5.00             4.00         6.00                     Pros:It is fairly easy to use in keeping communication open between clients and employees. I'd say it is second best.                                                                                                                                                                                               Responded    Detractor       1\n",
       "T_01670    2024-11-11      Zoho Desk                5.00            3.00              5.00      5.00             5.00         9.00                     Wide functionalityEase of useUser friendly and intuitive interfaceAffordable price                                                                                                                                                                                                                                  Responded    Promoter        1\n",
       "T_01674    2024-11-11      Freshdesk                4.00            2.00              5.00      5.00             5.00         8.00                     Support and development teams may quickly and easily filter issues in Freshdesk using the many available filters. Using freshdesk has been a simple process. Another perk is that numerous tickets can be linked to the same major disruption.                                                                      Responded    Passive         1\n",
       "T_04891    2024-12-30      Jira Service Management  5.00            4.00              5.00      5.00             3.00         5.00                     Al realizar los testing se podian encontrar todos los escenarios para un determinado grupo de empleados, de manera facil y de igual forma se puede ir actualizando el estado de las pruebas y poner detalles de alguna prueba que no haya podido completado.                                                        Responded    Detractor       1\n",
       "Name: count, Length: 787, dtype: int64"
      ]
     },
     "execution_count": 35,
     "metadata": {},
     "output_type": "execute_result"
    }
   ],
   "source": [
    "responded_customer.info()"
   ]
  },
  {
   "cell_type": "markdown",
   "metadata": {
    "id": "LqsnFMysmrDF"
   },
   "source": [
    "\n",
    "Calculate the NPS Score with the following formula\n",
    "\n",
    "$$\n",
    "NPS = \\frac{Promoter - Detractor}{Total\\ Survey\\ Responded}\n",
    "$$"
   ]
  },
  {
   "cell_type": "code",
   "execution_count": 34,
   "metadata": {
    "id": "GXcgu1jpxw_c"
   },
   "outputs": [
    {
     "name": "stdout",
     "output_type": "stream",
     "text": [
      "251\n",
      "157\n",
      "NPS Score: 11.9\n"
     ]
    }
   ],
   "source": [
    "# NPS Score\n",
    "nps_agg_1 = responded_customer.value_counts('nps_category').reset_index()\n",
    "\n",
    "nps_agg_promoter = nps_agg_1[ nps_agg_1['nps_category'] == 'Promoter' ]['count'].item()\n",
    "nps_agg_detractor = nps_agg_1[ nps_agg_1['nps_category'] == 'Detractor' ]['count'].item()\n",
    "nps_score = (nps_agg_promoter - nps_agg_detractor)/nps_agg_1['count'].sum()\n",
    "\n",
    "print(nps_agg_promoter)\n",
    "print(nps_agg_detractor)\n",
    "print(f'NPS Score: { (nps_score * 100):.1f}')"
   ]
  },
  {
   "cell_type": "markdown",
   "metadata": {
    "id": "DnrnprG-bZv9"
   },
   "source": [
    "NPS score can be ranging from -100 (when all customers are detractor) to 100 (when all customers are promoter).\n",
    "\n",
    "NPS Score can be classified into categories based on the following threshold:\n",
    "\n",
    "- \\>= 70: Excellent\n",
    "- 50-69: Very Good\n",
    "- 30-49: Good\n",
    "- 0-29: Average\n",
    "- \\< 0: Poor"
   ]
  },
  {
   "cell_type": "markdown",
   "metadata": {
    "id": "A358JFml0PxG"
   },
   "source": [
    "## Sentiment Analysis\n",
    "\n",
    "Create a new dataframe with no blank overall_text."
   ]
  },
  {
   "cell_type": "code",
   "execution_count": 22,
   "metadata": {
    "id": "16O516Us0O8K"
   },
   "outputs": [
    {
     "data": {
      "text/html": [
       "<div>\n",
       "<style scoped>\n",
       "    .dataframe tbody tr th:only-of-type {\n",
       "        vertical-align: middle;\n",
       "    }\n",
       "\n",
       "    .dataframe tbody tr th {\n",
       "        vertical-align: top;\n",
       "    }\n",
       "\n",
       "    .dataframe thead th {\n",
       "        text-align: right;\n",
       "    }\n",
       "</style>\n",
       "<table border=\"1\" class=\"dataframe\">\n",
       "  <thead>\n",
       "    <tr style=\"text-align: right;\">\n",
       "      <th></th>\n",
       "      <th>id_survey</th>\n",
       "      <th>date_of_survey</th>\n",
       "      <th>ticket_system</th>\n",
       "      <th>overall_rating</th>\n",
       "      <th>customer_service</th>\n",
       "      <th>features</th>\n",
       "      <th>value_for_money</th>\n",
       "      <th>ease_of_use</th>\n",
       "      <th>likelihood_to_recommend</th>\n",
       "      <th>overall_text</th>\n",
       "      <th>fill_survey</th>\n",
       "      <th>nps_category</th>\n",
       "    </tr>\n",
       "  </thead>\n",
       "  <tbody>\n",
       "    <tr>\n",
       "      <th>0</th>\n",
       "      <td>T_02161</td>\n",
       "      <td>2024-11-20</td>\n",
       "      <td>Zendesk</td>\n",
       "      <td>NaN</td>\n",
       "      <td>NaN</td>\n",
       "      <td>NaN</td>\n",
       "      <td>NaN</td>\n",
       "      <td>NaN</td>\n",
       "      <td>NaN</td>\n",
       "      <td>NaN</td>\n",
       "      <td>Not Responded</td>\n",
       "      <td>NaN</td>\n",
       "    </tr>\n",
       "    <tr>\n",
       "      <th>1</th>\n",
       "      <td>T_00229</td>\n",
       "      <td>2024-10-06</td>\n",
       "      <td>Zendesk</td>\n",
       "      <td>3.00</td>\n",
       "      <td>4.00</td>\n",
       "      <td>3.00</td>\n",
       "      <td>3.00</td>\n",
       "      <td>2.00</td>\n",
       "      <td>6.00</td>\n",
       "      <td>Customer tickets managements</td>\n",
       "      <td>Responded</td>\n",
       "      <td>Detractor</td>\n",
       "    </tr>\n",
       "    <tr>\n",
       "      <th>2</th>\n",
       "      <td>T_04527</td>\n",
       "      <td>2024-12-26</td>\n",
       "      <td>Zoho Desk</td>\n",
       "      <td>5.00</td>\n",
       "      <td>5.00</td>\n",
       "      <td>5.00</td>\n",
       "      <td>5.00</td>\n",
       "      <td>5.00</td>\n",
       "      <td>8.00</td>\n",
       "      <td>After 6 months of using the Zoho desk, we shif...</td>\n",
       "      <td>Responded</td>\n",
       "      <td>Passive</td>\n",
       "    </tr>\n",
       "    <tr>\n",
       "      <th>3</th>\n",
       "      <td>T_03190</td>\n",
       "      <td>2024-12-08</td>\n",
       "      <td>Zoho Desk</td>\n",
       "      <td>NaN</td>\n",
       "      <td>NaN</td>\n",
       "      <td>NaN</td>\n",
       "      <td>NaN</td>\n",
       "      <td>NaN</td>\n",
       "      <td>NaN</td>\n",
       "      <td>NaN</td>\n",
       "      <td>Not Responded</td>\n",
       "      <td>NaN</td>\n",
       "    </tr>\n",
       "    <tr>\n",
       "      <th>4</th>\n",
       "      <td>T_00644</td>\n",
       "      <td>2024-10-17</td>\n",
       "      <td>Zendesk</td>\n",
       "      <td>5.00</td>\n",
       "      <td>3.00</td>\n",
       "      <td>4.00</td>\n",
       "      <td>5.00</td>\n",
       "      <td>5.00</td>\n",
       "      <td>6.00</td>\n",
       "      <td>Pros:Zendesk has always been one of the go-to ...</td>\n",
       "      <td>Responded</td>\n",
       "      <td>Detractor</td>\n",
       "    </tr>\n",
       "  </tbody>\n",
       "</table>\n",
       "</div>"
      ],
      "text/plain": [
       "  id_survey date_of_survey ticket_system  overall_rating  customer_service  \\\n",
       "0   T_02161     2024-11-20       Zendesk             NaN               NaN   \n",
       "1   T_00229     2024-10-06       Zendesk            3.00              4.00   \n",
       "2   T_04527     2024-12-26     Zoho Desk            5.00              5.00   \n",
       "3   T_03190     2024-12-08     Zoho Desk             NaN               NaN   \n",
       "4   T_00644     2024-10-17       Zendesk            5.00              3.00   \n",
       "\n",
       "   features  value_for_money  ease_of_use  likelihood_to_recommend  \\\n",
       "0       NaN              NaN          NaN                      NaN   \n",
       "1      3.00             3.00         2.00                     6.00   \n",
       "2      5.00             5.00         5.00                     8.00   \n",
       "3       NaN              NaN          NaN                      NaN   \n",
       "4      4.00             5.00         5.00                     6.00   \n",
       "\n",
       "                                        overall_text    fill_survey  \\\n",
       "0                                                NaN  Not Responded   \n",
       "1                       Customer tickets managements      Responded   \n",
       "2  After 6 months of using the Zoho desk, we shif...      Responded   \n",
       "3                                                NaN  Not Responded   \n",
       "4  Pros:Zendesk has always been one of the go-to ...      Responded   \n",
       "\n",
       "  nps_category  \n",
       "0          NaN  \n",
       "1    Detractor  \n",
       "2      Passive  \n",
       "3          NaN  \n",
       "4    Detractor  "
      ]
     },
     "execution_count": 22,
     "metadata": {},
     "output_type": "execute_result"
    }
   ],
   "source": [
    "# Create new dataframe\n",
    "dataset = dataset.merge(responded_customer[['id_survey', 'nps_category']], on = 'id_survey', how = 'left')\n",
    "\n",
    "dataset.head()"
   ]
  },
  {
   "cell_type": "code",
   "execution_count": 23,
   "metadata": {},
   "outputs": [
    {
     "data": {
      "text/html": [
       "<div>\n",
       "<style scoped>\n",
       "    .dataframe tbody tr th:only-of-type {\n",
       "        vertical-align: middle;\n",
       "    }\n",
       "\n",
       "    .dataframe tbody tr th {\n",
       "        vertical-align: top;\n",
       "    }\n",
       "\n",
       "    .dataframe thead th {\n",
       "        text-align: right;\n",
       "    }\n",
       "</style>\n",
       "<table border=\"1\" class=\"dataframe\">\n",
       "  <thead>\n",
       "    <tr style=\"text-align: right;\">\n",
       "      <th></th>\n",
       "      <th>id_survey</th>\n",
       "      <th>overall_text</th>\n",
       "    </tr>\n",
       "  </thead>\n",
       "  <tbody>\n",
       "    <tr>\n",
       "      <th>1</th>\n",
       "      <td>T_00229</td>\n",
       "      <td>Customer tickets managements</td>\n",
       "    </tr>\n",
       "    <tr>\n",
       "      <th>2</th>\n",
       "      <td>T_04527</td>\n",
       "      <td>After 6 months of using the Zoho desk, we shif...</td>\n",
       "    </tr>\n",
       "    <tr>\n",
       "      <th>4</th>\n",
       "      <td>T_00644</td>\n",
       "      <td>Pros:Zendesk has always been one of the go-to ...</td>\n",
       "    </tr>\n",
       "    <tr>\n",
       "      <th>6</th>\n",
       "      <td>T_04682</td>\n",
       "      <td>It has been very useful so far to integrate mu...</td>\n",
       "    </tr>\n",
       "    <tr>\n",
       "      <th>8</th>\n",
       "      <td>T_01238</td>\n",
       "      <td>Pros:It's easy to use and very intuitive.We ha...</td>\n",
       "    </tr>\n",
       "  </tbody>\n",
       "</table>\n",
       "</div>"
      ],
      "text/plain": [
       "  id_survey                                       overall_text\n",
       "1   T_00229                       Customer tickets managements\n",
       "2   T_04527  After 6 months of using the Zoho desk, we shif...\n",
       "4   T_00644  Pros:Zendesk has always been one of the go-to ...\n",
       "6   T_04682  It has been very useful so far to integrate mu...\n",
       "8   T_01238  Pros:It's easy to use and very intuitive.We ha..."
      ]
     },
     "execution_count": 23,
     "metadata": {},
     "output_type": "execute_result"
    }
   ],
   "source": [
    "dataset_clean = dataset.dropna(axis =0, subset = 'overall_text')[['id_survey', 'overall_text']].copy()\n",
    "\n",
    "dataset_clean.head()"
   ]
  },
  {
   "cell_type": "markdown",
   "metadata": {
    "id": "hO_m9gr32BiD"
   },
   "source": [
    "### Text Cleansing\n",
    "\n",
    "In order to get more accurate sentiment, several text cleansing need to be done. However, in most of recent sentiment analysis models and algorithm, the only text cleansing needed are as follows:\n",
    "\n",
    "* Clean double whitespace\n",
    "* Clean URL/website\n",
    "* Clean username (mostly in social media or digital text)"
   ]
  },
  {
   "cell_type": "code",
   "execution_count": 24,
   "metadata": {
    "id": "gwZwCYT22Y68"
   },
   "outputs": [
    {
     "data": {
      "text/plain": [
       "\"Doesn't dissapoint. The car was great. It was the best car rental experiences I've had! Salute to @user who recommend http\""
      ]
     },
     "execution_count": 24,
     "metadata": {},
     "output_type": "execute_result"
    }
   ],
   "source": [
    "import re\n",
    "\n",
    "def cleansing_text(x):\n",
    "  # clean double whitespace\n",
    "  out_text = ' '.join(x.split())\n",
    "\n",
    "  # clean url\n",
    "  out_text = re.sub(r\"http\\S+|www\\S+|https\\S+\", 'http', out_text)\n",
    "\n",
    "  # clean username\n",
    "  out_text = re.sub(r\"@\\S+\", '@user', out_text)\n",
    "\n",
    "  return(out_text)\n",
    "\n",
    "cleansing_text(\" Doesn't  dissapoint. The car       was great. It was the best car rental experiences I've had! Salute to @jone who recommend https:/rental.com\")"
   ]
  },
  {
   "cell_type": "code",
   "execution_count": 25,
   "metadata": {
    "id": "pR5rusE11cJk"
   },
   "outputs": [
    {
     "data": {
      "text/html": [
       "<div>\n",
       "<style scoped>\n",
       "    .dataframe tbody tr th:only-of-type {\n",
       "        vertical-align: middle;\n",
       "    }\n",
       "\n",
       "    .dataframe tbody tr th {\n",
       "        vertical-align: top;\n",
       "    }\n",
       "\n",
       "    .dataframe thead th {\n",
       "        text-align: right;\n",
       "    }\n",
       "</style>\n",
       "<table border=\"1\" class=\"dataframe\">\n",
       "  <thead>\n",
       "    <tr style=\"text-align: right;\">\n",
       "      <th></th>\n",
       "      <th>id_survey</th>\n",
       "      <th>overall_text</th>\n",
       "      <th>clean_text</th>\n",
       "    </tr>\n",
       "  </thead>\n",
       "  <tbody>\n",
       "    <tr>\n",
       "      <th>1453</th>\n",
       "      <td>T_03809</td>\n",
       "      <td>Ease of use and the customisable organisation....</td>\n",
       "      <td>Ease of use and the customisable organisation....</td>\n",
       "    </tr>\n",
       "    <tr>\n",
       "      <th>1454</th>\n",
       "      <td>T_04438</td>\n",
       "      <td>JSD offers a lot for any company needing to ma...</td>\n",
       "      <td>JSD offers a lot for any company needing to ma...</td>\n",
       "    </tr>\n",
       "    <tr>\n",
       "      <th>1457</th>\n",
       "      <td>T_01536</td>\n",
       "      <td>IT was not prioritizing, tracking, resolving a...</td>\n",
       "      <td>IT was not prioritizing, tracking, resolving a...</td>\n",
       "    </tr>\n",
       "    <tr>\n",
       "      <th>1458</th>\n",
       "      <td>T_00582</td>\n",
       "      <td>Very useful, one-stop solution with related to...</td>\n",
       "      <td>Very useful, one-stop solution with related to...</td>\n",
       "    </tr>\n",
       "    <tr>\n",
       "      <th>1459</th>\n",
       "      <td>T_01834</td>\n",
       "      <td>We have done quite well. We have already more ...</td>\n",
       "      <td>We have done quite well. We have already more ...</td>\n",
       "    </tr>\n",
       "    <tr>\n",
       "      <th>1460</th>\n",
       "      <td>T_03629</td>\n",
       "      <td>Immensely positive, highly recommended custome...</td>\n",
       "      <td>Immensely positive, highly recommended custome...</td>\n",
       "    </tr>\n",
       "    <tr>\n",
       "      <th>1461</th>\n",
       "      <td>T_01981</td>\n",
       "      <td>Pros:Easy to start with a basic free setup and...</td>\n",
       "      <td>Pros:Easy to start with a basic free setup and...</td>\n",
       "    </tr>\n",
       "  </tbody>\n",
       "</table>\n",
       "</div>"
      ],
      "text/plain": [
       "     id_survey                                       overall_text  \\\n",
       "1453   T_03809  Ease of use and the customisable organisation....   \n",
       "1454   T_04438  JSD offers a lot for any company needing to ma...   \n",
       "1457   T_01536  IT was not prioritizing, tracking, resolving a...   \n",
       "1458   T_00582  Very useful, one-stop solution with related to...   \n",
       "1459   T_01834  We have done quite well. We have already more ...   \n",
       "1460   T_03629  Immensely positive, highly recommended custome...   \n",
       "1461   T_01981  Pros:Easy to start with a basic free setup and...   \n",
       "\n",
       "                                             clean_text  \n",
       "1453  Ease of use and the customisable organisation....  \n",
       "1454  JSD offers a lot for any company needing to ma...  \n",
       "1457  IT was not prioritizing, tracking, resolving a...  \n",
       "1458  Very useful, one-stop solution with related to...  \n",
       "1459  We have done quite well. We have already more ...  \n",
       "1460  Immensely positive, highly recommended custome...  \n",
       "1461  Pros:Easy to start with a basic free setup and...  "
      ]
     },
     "execution_count": 25,
     "metadata": {},
     "output_type": "execute_result"
    }
   ],
   "source": [
    "# apply cleansing to review\n",
    "dataset_clean['clean_text'] = dataset_clean['overall_text'].apply(cleansing_text)\n",
    "\n",
    "dataset_clean.tail(7)"
   ]
  },
  {
   "cell_type": "markdown",
   "metadata": {
    "id": "_oIgoqbp8gBL"
   },
   "source": [
    "### Sentiment Analysis\n",
    "\n",
    "Create a sentiment categories using algorithm of your own choice."
   ]
  },
  {
   "cell_type": "code",
   "execution_count": 26,
   "metadata": {},
   "outputs": [
    {
     "name": "stdout",
     "output_type": "stream",
     "text": [
      "WARNING:tensorflow:From C:\\Users\\roomr\\AppData\\Local\\Temp\\ipykernel_23388\\1040855161.py:2: The name tf.logging.set_verbosity is deprecated. Please use tf.compat.v1.logging.set_verbosity instead.\n",
      "\n"
     ]
    }
   ],
   "source": [
    "import tensorflow as tf\n",
    "tf.compat.v1.logging.set_verbosity(tf.compat.v1.logging.ERROR)\n"
   ]
  },
  {
   "cell_type": "code",
   "execution_count": 27,
   "metadata": {
    "id": "3OrsqgPR8ju9"
   },
   "outputs": [
    {
     "name": "stderr",
     "output_type": "stream",
     "text": [
      "All model checkpoint layers were used when initializing TFRobertaForSequenceClassification.\n",
      "\n",
      "All the layers of TFRobertaForSequenceClassification were initialized from the model checkpoint at cardiffnlp/twitter-roberta-base-sentiment.\n",
      "If your task is similar to the task the model of the checkpoint was trained on, you can already use TFRobertaForSequenceClassification for predictions without further training.\n",
      "Device set to use 0\n"
     ]
    }
   ],
   "source": [
    "# Sentiment Algorithm\n",
    "from transformers import pipeline\n",
    "# sentiment analysis task with twitter roberta model\n",
    "sentiment_pipeline = pipeline(\"sentiment-analysis\", model=\"cardiffnlp/twitter-roberta-base-sentiment\")"
   ]
  },
  {
   "cell_type": "code",
   "execution_count": 28,
   "metadata": {},
   "outputs": [],
   "source": [
    "import time\n",
    "\n",
    "start_time = time.time()\n"
   ]
  },
  {
   "cell_type": "code",
   "execution_count": 29,
   "metadata": {},
   "outputs": [
    {
     "name": "stdout",
     "output_type": "stream",
     "text": [
      "211.67465543746948\n"
     ]
    },
    {
     "data": {
      "text/html": [
       "<div>\n",
       "<style scoped>\n",
       "    .dataframe tbody tr th:only-of-type {\n",
       "        vertical-align: middle;\n",
       "    }\n",
       "\n",
       "    .dataframe tbody tr th {\n",
       "        vertical-align: top;\n",
       "    }\n",
       "\n",
       "    .dataframe thead th {\n",
       "        text-align: right;\n",
       "    }\n",
       "</style>\n",
       "<table border=\"1\" class=\"dataframe\">\n",
       "  <thead>\n",
       "    <tr style=\"text-align: right;\">\n",
       "      <th></th>\n",
       "      <th>id_survey</th>\n",
       "      <th>overall_text</th>\n",
       "      <th>clean_text</th>\n",
       "      <th>sentiment_score</th>\n",
       "      <th>sentiment</th>\n",
       "    </tr>\n",
       "  </thead>\n",
       "  <tbody>\n",
       "    <tr>\n",
       "      <th>1</th>\n",
       "      <td>T_00229</td>\n",
       "      <td>Customer tickets managements</td>\n",
       "      <td>Customer tickets managements</td>\n",
       "      <td>{'label': 'LABEL_1', 'score': 0.732880175113678}</td>\n",
       "      <td>Neutral</td>\n",
       "    </tr>\n",
       "    <tr>\n",
       "      <th>2</th>\n",
       "      <td>T_04527</td>\n",
       "      <td>After 6 months of using the Zoho desk, we shif...</td>\n",
       "      <td>After 6 months of using the Zoho desk, we shif...</td>\n",
       "      <td>{'label': 'LABEL_2', 'score': 0.9796792268753052}</td>\n",
       "      <td>Positive</td>\n",
       "    </tr>\n",
       "    <tr>\n",
       "      <th>4</th>\n",
       "      <td>T_00644</td>\n",
       "      <td>Pros:Zendesk has always been one of the go-to ...</td>\n",
       "      <td>Pros:Zendesk has always been one of the go-to ...</td>\n",
       "      <td>{'label': 'LABEL_2', 'score': 0.787929356098175}</td>\n",
       "      <td>Positive</td>\n",
       "    </tr>\n",
       "    <tr>\n",
       "      <th>6</th>\n",
       "      <td>T_04682</td>\n",
       "      <td>It has been very useful so far to integrate mu...</td>\n",
       "      <td>It has been very useful so far to integrate mu...</td>\n",
       "      <td>{'label': 'LABEL_2', 'score': 0.9632710218429565}</td>\n",
       "      <td>Positive</td>\n",
       "    </tr>\n",
       "    <tr>\n",
       "      <th>8</th>\n",
       "      <td>T_01238</td>\n",
       "      <td>Pros:It's easy to use and very intuitive.We ha...</td>\n",
       "      <td>Pros:It's easy to use and very intuitive.We ha...</td>\n",
       "      <td>{'label': 'LABEL_2', 'score': 0.8690706491470337}</td>\n",
       "      <td>Positive</td>\n",
       "    </tr>\n",
       "  </tbody>\n",
       "</table>\n",
       "</div>"
      ],
      "text/plain": [
       "  id_survey                                       overall_text  \\\n",
       "1   T_00229                       Customer tickets managements   \n",
       "2   T_04527  After 6 months of using the Zoho desk, we shif...   \n",
       "4   T_00644  Pros:Zendesk has always been one of the go-to ...   \n",
       "6   T_04682  It has been very useful so far to integrate mu...   \n",
       "8   T_01238  Pros:It's easy to use and very intuitive.We ha...   \n",
       "\n",
       "                                          clean_text  \\\n",
       "1                       Customer tickets managements   \n",
       "2  After 6 months of using the Zoho desk, we shif...   \n",
       "4  Pros:Zendesk has always been one of the go-to ...   \n",
       "6  It has been very useful so far to integrate mu...   \n",
       "8  Pros:It's easy to use and very intuitive.We ha...   \n",
       "\n",
       "                                     sentiment_score sentiment  \n",
       "1   {'label': 'LABEL_1', 'score': 0.732880175113678}   Neutral  \n",
       "2  {'label': 'LABEL_2', 'score': 0.9796792268753052}  Positive  \n",
       "4   {'label': 'LABEL_2', 'score': 0.787929356098175}  Positive  \n",
       "6  {'label': 'LABEL_2', 'score': 0.9632710218429565}  Positive  \n",
       "8  {'label': 'LABEL_2', 'score': 0.8690706491470337}  Positive  "
      ]
     },
     "execution_count": 29,
     "metadata": {},
     "output_type": "execute_result"
    }
   ],
   "source": [
    "# Predict sentiment\n",
    "transformer_results = sentiment_pipeline(dataset_clean['clean_text'].tolist())\n",
    "\n",
    "dataset_clean['sentiment_score'] = transformer_results\n",
    "dataset_clean['sentiment'] = dataset_clean['sentiment_score'].apply(lambda x: x['label'])\n",
    "\n",
    "# Create sentiment category\n",
    "sent_value = ['Negative', 'Neutral', 'Positive']\n",
    "sent_condition = [dataset_clean['sentiment'] == 'LABEL_0',\n",
    "                  dataset_clean['sentiment'] == 'LABEL_1',\n",
    "                  dataset_clean['sentiment'] == 'LABEL_2'\n",
    "                  ]\n",
    "\n",
    "dataset_clean['sentiment'] = np.select(sent_condition, sent_value)\n",
    "elapsed_time = time.time() - start_time\n",
    "print(elapsed_time)\n",
    "dataset_clean.head()"
   ]
  },
  {
   "cell_type": "markdown",
   "metadata": {
    "id": "XGfkO0398K9_"
   },
   "source": [
    "Check the number of data by sentiment."
   ]
  },
  {
   "cell_type": "code",
   "execution_count": 30,
   "metadata": {
    "id": "xlQhVTwzo8qn"
   },
   "outputs": [
    {
     "data": {
      "text/plain": [
       "sentiment\n",
       "Positive    667\n",
       "Neutral     100\n",
       "Negative     20\n",
       "Name: count, dtype: int64"
      ]
     },
     "execution_count": 30,
     "metadata": {},
     "output_type": "execute_result"
    }
   ],
   "source": [
    "# Number of Sentiment\n",
    "dataset_clean.value_counts('sentiment')"
   ]
  },
  {
   "cell_type": "markdown",
   "metadata": {
    "id": "q1_JUY3R-2g_"
   },
   "source": [
    "## Finalize Data for Reporting\n",
    "\n",
    "Save the review data with NPS category and sentiment information to new csv for the dashboard."
   ]
  },
  {
   "cell_type": "code",
   "execution_count": 31,
   "metadata": {
    "id": "e3RZ-nrf-1mx"
   },
   "outputs": [
    {
     "data": {
      "text/html": [
       "<div>\n",
       "<style scoped>\n",
       "    .dataframe tbody tr th:only-of-type {\n",
       "        vertical-align: middle;\n",
       "    }\n",
       "\n",
       "    .dataframe tbody tr th {\n",
       "        vertical-align: top;\n",
       "    }\n",
       "\n",
       "    .dataframe thead th {\n",
       "        text-align: right;\n",
       "    }\n",
       "</style>\n",
       "<table border=\"1\" class=\"dataframe\">\n",
       "  <thead>\n",
       "    <tr style=\"text-align: right;\">\n",
       "      <th></th>\n",
       "      <th>id_survey</th>\n",
       "      <th>date_of_survey</th>\n",
       "      <th>ticket_system</th>\n",
       "      <th>overall_rating</th>\n",
       "      <th>customer_service</th>\n",
       "      <th>features</th>\n",
       "      <th>value_for_money</th>\n",
       "      <th>ease_of_use</th>\n",
       "      <th>likelihood_to_recommend</th>\n",
       "      <th>overall_text</th>\n",
       "      <th>fill_survey</th>\n",
       "      <th>nps_category</th>\n",
       "      <th>sentiment</th>\n",
       "    </tr>\n",
       "  </thead>\n",
       "  <tbody>\n",
       "    <tr>\n",
       "      <th>0</th>\n",
       "      <td>T_02161</td>\n",
       "      <td>2024-11-20</td>\n",
       "      <td>Zendesk</td>\n",
       "      <td>NaN</td>\n",
       "      <td>NaN</td>\n",
       "      <td>NaN</td>\n",
       "      <td>NaN</td>\n",
       "      <td>NaN</td>\n",
       "      <td>NaN</td>\n",
       "      <td>NaN</td>\n",
       "      <td>Not Responded</td>\n",
       "      <td>NaN</td>\n",
       "      <td>NaN</td>\n",
       "    </tr>\n",
       "    <tr>\n",
       "      <th>1</th>\n",
       "      <td>T_00229</td>\n",
       "      <td>2024-10-06</td>\n",
       "      <td>Zendesk</td>\n",
       "      <td>3.00</td>\n",
       "      <td>4.00</td>\n",
       "      <td>3.00</td>\n",
       "      <td>3.00</td>\n",
       "      <td>2.00</td>\n",
       "      <td>6.00</td>\n",
       "      <td>Customer tickets managements</td>\n",
       "      <td>Responded</td>\n",
       "      <td>Detractor</td>\n",
       "      <td>Neutral</td>\n",
       "    </tr>\n",
       "    <tr>\n",
       "      <th>2</th>\n",
       "      <td>T_04527</td>\n",
       "      <td>2024-12-26</td>\n",
       "      <td>Zoho Desk</td>\n",
       "      <td>5.00</td>\n",
       "      <td>5.00</td>\n",
       "      <td>5.00</td>\n",
       "      <td>5.00</td>\n",
       "      <td>5.00</td>\n",
       "      <td>8.00</td>\n",
       "      <td>After 6 months of using the Zoho desk, we shif...</td>\n",
       "      <td>Responded</td>\n",
       "      <td>Passive</td>\n",
       "      <td>Positive</td>\n",
       "    </tr>\n",
       "    <tr>\n",
       "      <th>3</th>\n",
       "      <td>T_03190</td>\n",
       "      <td>2024-12-08</td>\n",
       "      <td>Zoho Desk</td>\n",
       "      <td>NaN</td>\n",
       "      <td>NaN</td>\n",
       "      <td>NaN</td>\n",
       "      <td>NaN</td>\n",
       "      <td>NaN</td>\n",
       "      <td>NaN</td>\n",
       "      <td>NaN</td>\n",
       "      <td>Not Responded</td>\n",
       "      <td>NaN</td>\n",
       "      <td>NaN</td>\n",
       "    </tr>\n",
       "    <tr>\n",
       "      <th>4</th>\n",
       "      <td>T_00644</td>\n",
       "      <td>2024-10-17</td>\n",
       "      <td>Zendesk</td>\n",
       "      <td>5.00</td>\n",
       "      <td>3.00</td>\n",
       "      <td>4.00</td>\n",
       "      <td>5.00</td>\n",
       "      <td>5.00</td>\n",
       "      <td>6.00</td>\n",
       "      <td>Pros:Zendesk has always been one of the go-to ...</td>\n",
       "      <td>Responded</td>\n",
       "      <td>Detractor</td>\n",
       "      <td>Positive</td>\n",
       "    </tr>\n",
       "  </tbody>\n",
       "</table>\n",
       "</div>"
      ],
      "text/plain": [
       "  id_survey date_of_survey ticket_system  overall_rating  customer_service  \\\n",
       "0   T_02161     2024-11-20       Zendesk             NaN               NaN   \n",
       "1   T_00229     2024-10-06       Zendesk            3.00              4.00   \n",
       "2   T_04527     2024-12-26     Zoho Desk            5.00              5.00   \n",
       "3   T_03190     2024-12-08     Zoho Desk             NaN               NaN   \n",
       "4   T_00644     2024-10-17       Zendesk            5.00              3.00   \n",
       "\n",
       "   features  value_for_money  ease_of_use  likelihood_to_recommend  \\\n",
       "0       NaN              NaN          NaN                      NaN   \n",
       "1      3.00             3.00         2.00                     6.00   \n",
       "2      5.00             5.00         5.00                     8.00   \n",
       "3       NaN              NaN          NaN                      NaN   \n",
       "4      4.00             5.00         5.00                     6.00   \n",
       "\n",
       "                                        overall_text    fill_survey  \\\n",
       "0                                                NaN  Not Responded   \n",
       "1                       Customer tickets managements      Responded   \n",
       "2  After 6 months of using the Zoho desk, we shif...      Responded   \n",
       "3                                                NaN  Not Responded   \n",
       "4  Pros:Zendesk has always been one of the go-to ...      Responded   \n",
       "\n",
       "  nps_category sentiment  \n",
       "0          NaN       NaN  \n",
       "1    Detractor   Neutral  \n",
       "2      Passive  Positive  \n",
       "3          NaN       NaN  \n",
       "4    Detractor  Positive  "
      ]
     },
     "execution_count": 31,
     "metadata": {},
     "output_type": "execute_result"
    }
   ],
   "source": [
    "# Save Data\n",
    "dataset_final = dataset.merge(dataset_clean[['id_survey', 'sentiment']],\n",
    "                                  on = 'id_survey', how = 'left'\n",
    "                                  )\n",
    "\n",
    "dataset_final.head()"
   ]
  },
  {
   "cell_type": "code",
   "execution_count": 32,
   "metadata": {},
   "outputs": [],
   "source": [
    "file_output = 'C:\\\\Users\\\\roomr\\\\OneDrive\\\\Desktop\\\\Coding\\\\1 - Assignment\\\\PR Extra Day 5\\\\ticket_final.csv'\n",
    "dataset_final.to_csv(file_output, index=False)\n"
   ]
  }
 ],
 "metadata": {
  "accelerator": "GPU",
  "colab": {
   "gpuType": "T4",
   "provenance": []
  },
  "kernelspec": {
   "display_name": "base",
   "language": "python",
   "name": "python3"
  },
  "language_info": {
   "codemirror_mode": {
    "name": "ipython",
    "version": 3
   },
   "file_extension": ".py",
   "mimetype": "text/x-python",
   "name": "python",
   "nbconvert_exporter": "python",
   "pygments_lexer": "ipython3",
   "version": "3.12.7"
  }
 },
 "nbformat": 4,
 "nbformat_minor": 0
}
